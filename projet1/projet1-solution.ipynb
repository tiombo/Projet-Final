{
 "cells": [
  {
   "cell_type": "markdown",
   "metadata": {},
   "source": [
    "420-A52-SF - Algorithmes d'apprentissage supervisé - Hiver 2020 - Spécialisation technique en Intelligence Artificielle - Mikaël Swawola, M.Sc.\n",
    "<br/>\n",
    "![Correction Projet #1](static/projet1-banner.png)"
   ]
  },
  {
   "cell_type": "code",
   "execution_count": null,
   "metadata": {},
   "outputs": [],
   "source": [
    "%reload_ext autoreload\n",
    "%autoreload 2\n",
    "%matplotlib inline"
   ]
  },
  {
   "cell_type": "markdown",
   "metadata": {},
   "source": [
    "## 0 - Chargement des bibliothèques"
   ]
  },
  {
   "cell_type": "code",
   "execution_count": null,
   "metadata": {},
   "outputs": [],
   "source": [
    "# Manipulation de données\n",
    "import numpy as np\n",
    "import pandas as pd\n",
    "\n",
    "# Visualisation de données\n",
    "import matplotlib.pyplot as plt\n",
    "import seaborn as sns\n",
    "\n",
    "# Helpers\n",
    "from helpers import polynomial\n",
    "\n",
    "# Outils divers\n",
    "import time\n",
    "from collections import defaultdict\n",
    "\n",
    "# Machine Learning\n",
    "from sklearn.linear_model import LinearRegression\n",
    "from sklearn.neighbors import KNeighborsRegressor\n",
    "from sklearn.model_selection import KFold\n",
    "from sklearn.metrics import mean_squared_error"
   ]
  },
  {
   "cell_type": "code",
   "execution_count": null,
   "metadata": {},
   "outputs": [],
   "source": [
    "# Configuration de la visualisation\n",
    "sns.set(style=\"darkgrid\", rc={'figure.figsize':(12,6)})\n",
    "sns.set_context(\"notebook\", font_scale=1.5, rc={\"lines.linewidth\": 2.5})"
   ]
  },
  {
   "cell_type": "markdown",
   "metadata": {},
   "source": [
    "## 1 - Chargement du jeu de données et exploration sommaire"
   ]
  },
  {
   "cell_type": "markdown",
   "metadata": {},
   "source": [
    "<strong>Lecture du fichier `BOS_train.csv`<strong/>"
   ]
  },
  {
   "cell_type": "code",
   "execution_count": null,
   "metadata": {},
   "outputs": [],
   "source": [
    "BOS = pd.read_csv('BOS_train.csv', index_col=[0])"
   ]
  },
  {
   "cell_type": "markdown",
   "metadata": {},
   "source": [
    "<strong>Affichage des dix premières lignes de la trame de données BOS</strong>"
   ]
  },
  {
   "cell_type": "code",
   "execution_count": null,
   "metadata": {},
   "outputs": [],
   "source": [
    "BOS.head()"
   ]
  },
  {
   "cell_type": "markdown",
   "metadata": {},
   "source": [
    "<strong>Affichage du nombre d'observations</strong>"
   ]
  },
  {
   "cell_type": "code",
   "execution_count": null,
   "metadata": {},
   "outputs": [],
   "source": [
    "len(BOS)"
   ]
  },
  {
   "cell_type": "markdown",
   "metadata": {},
   "source": [
    "#### Affichage du nom des variables indicatrices"
   ]
  },
  {
   "cell_type": "code",
   "execution_count": null,
   "metadata": {},
   "outputs": [],
   "source": [
    "BOS.columns"
   ]
  },
  {
   "cell_type": "markdown",
   "metadata": {},
   "source": [
    "| Variable        | Description           | Type  |\n",
    "| --------------- |:--------------------- |:----- |\n",
    "| origin      | Aéroport de départ | qualitative |\n",
    "| time_hour      | Date et heure prévues du vol      |   qualitative |\n",
    "| tailnum | Numéro d'immatriculation      |    qualitative |\n",
    "| year | Année de départ | quantitative |\n",
    "| month | Mois de départ | quantitative | \n",
    "| day | Jour de départ | quantitative |\n",
    "| dep_time | Heure de départ effective | quantitative |\n",
    "| sched_dep_time | Heure de départ prévue | quantitative |\n",
    "| dep_delay | Retard au départ (en minutes). Les temps négatifs représentent une avance | quantitative |\n",
    "| **arr_delay** | **Retard à l'arrivée (en minutes). Les temps négatifs représentent une avance** | **quantitative** |\n",
    "| carrier | Transporteur (abbréviation) |    qualitative |\n",
    "| flight | Numéro du vol |    qualitative |\n",
    "| dest | Aéroport de destination |    qualitative |\n",
    "| air_time | Temps passé dans les airs (en minutes)  | quantitative |\n",
    "| distance | Distance entre les aéroports (en miles) | quantitative |\n",
    "| hour | Heure de départ prévue | quantitative |\n",
    "| minute | Minute de départ prévue | quantitative |\n",
    "| seats | Nombre de sièges dans l'avion | quantitative |\n",
    "| temp | Température en F | quantitative |\n",
    "| dewp | Point de rosée en F | quantitative |\n",
    "| humid | Humidité relative | quantitative |\n",
    "| wind_dir |  Direction du vent (en degrés) | quantitative |\n",
    "| wind_speed | Vitesse du vent (en mph) | quantitative |\n",
    "| precip | Preciptations (en pouces) | quantitative |\n",
    "| pressure | Pression au niveau de la mer (en millibars) | quantitative |\n",
    "| visib | Visibilité (en miles) | quantitative |\n",
    "| week_day | jour de la semaine du départ du vol | qualitative |\n",
    "| wknd | indicatrice de la fin de semaine (TRUE pour un vol de fin de semaine, FALSE sinon) | qualitative |\n",
    "| evening_rush_hour | indicatrice de l'heure de pointe de fin de journée (TRUE entre 17 et 19 heures du soir, FALSE sinon) | qualitative |\n",
    "| wind_sin | variable pour modéliser correctement les vents (wind_speed x sin(BOS\\$wind_dir x pi/180)) | quantitative |\n",
    "| wind_cos | variable pour modéliser correctement les vents (wind_speed x cos(BOS\\$wind_dir x pi/180)) | quantitative |\n",
    "| precip_indic | indicatrice de la présence de précipitation (TRUE s'il y a des précipitations, FALSE sinon) | qualitative |"
   ]
  },
  {
   "cell_type": "markdown",
   "metadata": {},
   "source": [
    "## 2 - Modèle de référence"
   ]
  },
  {
   "cell_type": "markdown",
   "metadata": {},
   "source": [
    "Nous remarquons la colonne `dep_delay` (retard au départ). Il est fort probable qu'une relation linéaire existe entre `dep_delay` et `arr_delay`. Affichons le nuage de points correspondant"
   ]
  },
  {
   "cell_type": "code",
   "execution_count": null,
   "metadata": {},
   "outputs": [],
   "source": [
    "g = sns.scatterplot(x='dep_delay', y='arr_delay', data=BOS)\n",
    "g.set_xlabel(\"Retard au départ\")\n",
    "g.set_ylabel(\"Retard à l'arrivée\")"
   ]
  },
  {
   "cell_type": "code",
   "execution_count": null,
   "metadata": {},
   "outputs": [],
   "source": [
    "X_base = BOS['dep_delay'].values.reshape(-1,1)\n",
    "y = BOS['arr_delay'].values.reshape(-1,1)"
   ]
  },
  {
   "cell_type": "markdown",
   "metadata": {},
   "source": [
    "Effectuons une régression linéaire"
   ]
  },
  {
   "cell_type": "code",
   "execution_count": null,
   "metadata": {},
   "outputs": [],
   "source": [
    "lr_baseline = LinearRegression().fit(X_base, y)"
   ]
  },
  {
   "cell_type": "code",
   "execution_count": null,
   "metadata": {},
   "outputs": [],
   "source": [
    "print(f'{lr_baseline.intercept_}')\n",
    "print(f'{lr_baseline.coef_}')"
   ]
  },
  {
   "cell_type": "code",
   "execution_count": null,
   "metadata": {},
   "outputs": [],
   "source": [
    "g = sns.scatterplot(x='dep_delay', y='arr_delay', data=BOS)\n",
    "g.set_xlabel(\"Retard au départ\")\n",
    "g.set_ylabel(\"Retard à l'arrivée\")\n",
    "\n",
    "x_grid = np.linspace(X_base.min(), X_base.max(), 10).reshape(-1,1)\n",
    "y_grid = lr_baseline.predict(x_grid)\n",
    "\n",
    "plt.plot(x_grid, y_grid, color=\"g\")"
   ]
  },
  {
   "cell_type": "markdown",
   "metadata": {},
   "source": [
    "### R2"
   ]
  },
  {
   "cell_type": "code",
   "execution_count": null,
   "metadata": {},
   "outputs": [],
   "source": [
    "lr_baseline.score(X_base, y)"
   ]
  },
  {
   "cell_type": "markdown",
   "metadata": {},
   "source": [
    "### RMSE"
   ]
  },
  {
   "cell_type": "code",
   "execution_count": null,
   "metadata": {},
   "outputs": [],
   "source": [
    "np.sqrt(mean_squared_error(y, lr_baseline.predict(X_base)))"
   ]
  },
  {
   "cell_type": "markdown",
   "metadata": {},
   "source": [
    "Ce modèle simpliste se trompe en moyenne de 16.05 minutes sur les prévisions de retard à l'arrivée. Nous allons tenter d'améliorer cette performance en ajoutant d'autres variables ayant une influence sur `arr_delay`"
   ]
  },
  {
   "cell_type": "markdown",
   "metadata": {},
   "source": [
    "# 3 - Régression linéaire"
   ]
  },
  {
   "cell_type": "markdown",
   "metadata": {},
   "source": [
    "Nous allons maintenant inclure de nouvelles variables dans le modèle. Bien sûr, n'oublions pas d'ajouter celle qui semble la plus significative, `dep_delay`"
   ]
  },
  {
   "cell_type": "code",
   "execution_count": null,
   "metadata": {},
   "outputs": [],
   "source": [
    "df = pd.DataFrame()"
   ]
  },
  {
   "cell_type": "markdown",
   "metadata": {},
   "source": [
    "## dep_delay"
   ]
  },
  {
   "cell_type": "code",
   "execution_count": null,
   "metadata": {},
   "outputs": [],
   "source": [
    "df['dep_delay'] = BOS['dep_delay']"
   ]
  },
  {
   "cell_type": "markdown",
   "metadata": {},
   "source": [
    "## dest"
   ]
  },
  {
   "cell_type": "markdown",
   "metadata": {},
   "source": [
    "`dest` est une variable explicative ne contenant qu'une seule valeur, \"BOS\". C'est normal pusique le jeu de données ne concerne que les vols en destination de Boston. **Nous pouvonc donc ignorer cette variable**"
   ]
  },
  {
   "cell_type": "code",
   "execution_count": null,
   "metadata": {},
   "outputs": [],
   "source": [
    "BOS['dest'].unique()"
   ]
  },
  {
   "cell_type": "markdown",
   "metadata": {},
   "source": [
    "## origin\n",
    "\n",
    "`origin` est une variable qualitative. Voyons les différentes valeurs"
   ]
  },
  {
   "cell_type": "code",
   "execution_count": null,
   "metadata": {},
   "outputs": [],
   "source": [
    "BOS['origin'].unique()"
   ]
  },
  {
   "cell_type": "markdown",
   "metadata": {},
   "source": [
    "Puisque nous avons 3 valeurs (EWR, JFK et LGA), une première approche consiste à créer 3-1=2 variables indicatrices. Or, si nous regardons le jeu de données attentivement, nous constatons la présence d'une variable `distance` représentant le distance entre les aéroports"
   ]
  },
  {
   "cell_type": "code",
   "execution_count": null,
   "metadata": {},
   "outputs": [],
   "source": [
    "BOS['distance'].unique()"
   ]
  },
  {
   "cell_type": "markdown",
   "metadata": {},
   "source": [
    "L'information contenue dans ces deux colonnes est donc redondante. Puisque la colonne distance est une variable explicative continue, celle-ci contient plus d'information que la variable explicative `origin`. Une autre raison et que nous n'avons qu'une seule variable au lieu de deux. Nous allons inclure `distance`."
   ]
  },
  {
   "cell_type": "code",
   "execution_count": null,
   "metadata": {},
   "outputs": [],
   "source": [
    "df['distance'] = BOS['distance']"
   ]
  },
  {
   "cell_type": "code",
   "execution_count": null,
   "metadata": {},
   "outputs": [],
   "source": [
    "lr = LinearRegression().fit(df.values, y)\n",
    "lr.score(df.values, y)"
   ]
  },
  {
   "cell_type": "markdown",
   "metadata": {},
   "source": [
    "## time_hour, year, month, day, sched_dep_time, hour, minute, dep_time, dep_delay"
   ]
  },
  {
   "cell_type": "code",
   "execution_count": null,
   "metadata": {},
   "outputs": [],
   "source": [
    "BOS[['time_hour', 'year','month', 'day', 'sched_dep_time','hour','minute','dep_time','dep_delay']].head(10)"
   ]
  },
  {
   "cell_type": "markdown",
   "metadata": {},
   "source": [
    "Nous pouvons remarquer que:\n",
    "\n",
    "* La totalité de l'information contenue dans `time_hour` est présente dans les autres variables explicatives\n",
    "* `year` et `month` ne contiennent respectivement que les valeurs 2013 et 7\n",
    "* `dep_delay = dep_time - sched_dep_time`\n",
    "* La totalité de l'information contenue dans `sched_dep_time` est présente dans `hour` et `minute`\n"
   ]
  },
  {
   "cell_type": "code",
   "execution_count": null,
   "metadata": {},
   "outputs": [],
   "source": [
    "df['day'] = BOS['day']\n",
    "df['time'] = 60 * BOS['hour'] + BOS['minute']"
   ]
  },
  {
   "cell_type": "code",
   "execution_count": null,
   "metadata": {},
   "outputs": [],
   "source": [
    "lr = LinearRegression().fit(df.values, y)\n",
    "lr.score(df.values, y)"
   ]
  },
  {
   "cell_type": "markdown",
   "metadata": {},
   "source": [
    "## week_day"
   ]
  },
  {
   "cell_type": "markdown",
   "metadata": {},
   "source": [
    "Nous gardons `week_day`, car nous suspectons que le jour de la semaine peut avoir un impact. Nous convertissons en variable continue"
   ]
  },
  {
   "cell_type": "code",
   "execution_count": null,
   "metadata": {},
   "outputs": [],
   "source": [
    "BOS['week_day']"
   ]
  },
  {
   "cell_type": "code",
   "execution_count": null,
   "metadata": {},
   "outputs": [],
   "source": [
    "df['week_day'] = BOS['week_day'].apply(lambda x: time.strptime(x, \"%A\").tm_wday)\n",
    "df['week_day'].unique()"
   ]
  },
  {
   "cell_type": "code",
   "execution_count": null,
   "metadata": {},
   "outputs": [],
   "source": [
    "lr = LinearRegression().fit(df.values, y)\n",
    "lr.score(df.values, y)"
   ]
  },
  {
   "cell_type": "markdown",
   "metadata": {},
   "source": [
    "## wknd, evening_rush_hour"
   ]
  },
  {
   "cell_type": "code",
   "execution_count": null,
   "metadata": {},
   "outputs": [],
   "source": [
    " BOS[['wknd','evening_rush_hour']].head()"
   ]
  },
  {
   "cell_type": "code",
   "execution_count": null,
   "metadata": {},
   "outputs": [],
   "source": [
    "df['wknd'] = BOS['wknd'].astype(int)\n",
    "df['evening_rush_hour'] = BOS['evening_rush_hour'].astype(int)"
   ]
  },
  {
   "cell_type": "code",
   "execution_count": null,
   "metadata": {},
   "outputs": [],
   "source": [
    "lr = LinearRegression().fit(df.values, y)\n",
    "lr.score(df.values, y)"
   ]
  },
  {
   "cell_type": "markdown",
   "metadata": {},
   "source": [
    "## tailnum, flight"
   ]
  },
  {
   "cell_type": "code",
   "execution_count": null,
   "metadata": {},
   "outputs": [],
   "source": [
    "len(BOS['tailnum'].unique())"
   ]
  },
  {
   "cell_type": "code",
   "execution_count": null,
   "metadata": {},
   "outputs": [],
   "source": [
    "BOS['flight'].unique()"
   ]
  },
  {
   "cell_type": "markdown",
   "metadata": {},
   "source": [
    "On laisse de côté ces deux variables qualitatives. De toute manière l'intuition indique que celles-ci ne devraient pas être significatives"
   ]
  },
  {
   "cell_type": "markdown",
   "metadata": {},
   "source": [
    "## carrier"
   ]
  },
  {
   "cell_type": "markdown",
   "metadata": {},
   "source": [
    "Il est très probable que cette variable montre un impact"
   ]
  },
  {
   "cell_type": "code",
   "execution_count": null,
   "metadata": {},
   "outputs": [],
   "source": [
    "BOS['carrier'].unique()"
   ]
  },
  {
   "cell_type": "markdown",
   "metadata": {},
   "source": [
    "On crée donc 7-1 variables indicatrices"
   ]
  },
  {
   "cell_type": "code",
   "execution_count": null,
   "metadata": {},
   "outputs": [],
   "source": [
    "df['carrier'] = BOS['carrier']"
   ]
  },
  {
   "cell_type": "code",
   "execution_count": null,
   "metadata": {},
   "outputs": [],
   "source": [
    "df = pd.get_dummies(df, prefix=\"carrier\", drop_first=True)"
   ]
  },
  {
   "cell_type": "code",
   "execution_count": null,
   "metadata": {},
   "outputs": [],
   "source": [
    "lr = LinearRegression().fit(df.values, y)\n",
    "lr.score(df.values, y)"
   ]
  },
  {
   "cell_type": "markdown",
   "metadata": {},
   "source": [
    "## air_time"
   ]
  },
  {
   "cell_type": "code",
   "execution_count": null,
   "metadata": {},
   "outputs": [],
   "source": [
    "df['air_time'] = BOS['air_time']"
   ]
  },
  {
   "cell_type": "markdown",
   "metadata": {},
   "source": [
    "## seats"
   ]
  },
  {
   "cell_type": "code",
   "execution_count": null,
   "metadata": {},
   "outputs": [],
   "source": [
    "df['seats'] = BOS['seats']"
   ]
  },
  {
   "cell_type": "code",
   "execution_count": null,
   "metadata": {},
   "outputs": [],
   "source": [
    "lr = LinearRegression().fit(df.values, y)\n",
    "lr.score(df.values, y)"
   ]
  },
  {
   "cell_type": "code",
   "execution_count": null,
   "metadata": {},
   "outputs": [],
   "source": [
    "np.sqrt(mean_squared_error(y, lr.predict(df.values)))"
   ]
  },
  {
   "cell_type": "markdown",
   "metadata": {},
   "source": [
    "## temp, dewp, humid, pressure"
   ]
  },
  {
   "cell_type": "code",
   "execution_count": null,
   "metadata": {},
   "outputs": [],
   "source": [
    "BOS[['temp','dewp','humid','pressure']]"
   ]
  },
  {
   "cell_type": "code",
   "execution_count": null,
   "metadata": {},
   "outputs": [],
   "source": [
    "df['temp'] = BOS['temp']\n",
    "df['dewp'] = BOS['dewp']\n",
    "df['humid'] = BOS['humid']\n",
    "df['pressure'] = BOS['pressure']"
   ]
  },
  {
   "cell_type": "code",
   "execution_count": null,
   "metadata": {},
   "outputs": [],
   "source": [
    "lr = LinearRegression().fit(df.values, y)\n",
    "lr.score(df.values, y)"
   ]
  },
  {
   "cell_type": "markdown",
   "metadata": {},
   "source": [
    "## wind_dir, wind_speed, wind_sin, wind_cos"
   ]
  },
  {
   "cell_type": "markdown",
   "metadata": {},
   "source": [
    "| Variable        | Description           | Type  |\n",
    "| --------------- |:--------------------- |:----- |\n",
    "| wind_dir |  Direction du vent (en degrés) | quantitative |\n",
    "| wind_speed | Vitesse du vent (en mph) | quantitative |\n",
    "| wind_sin | variable pour modéliser correctement les vents (wind_speed x sin(BOS\\$wind_dir x pi/180)) | quantitative |\n",
    "| wind_cos | variable pour modéliser correctement les vents (wind_speed x cos(BOS\\$wind_dir x pi/180)) | quantitative |"
   ]
  },
  {
   "cell_type": "code",
   "execution_count": null,
   "metadata": {},
   "outputs": [],
   "source": [
    "df['wind_sin'] = BOS['wind_sin']\n",
    "df['wind_cos'] = BOS['wind_cos']"
   ]
  },
  {
   "cell_type": "code",
   "execution_count": null,
   "metadata": {},
   "outputs": [],
   "source": [
    "lr = LinearRegression().fit(df.values, y)\n",
    "lr.score(df.values, y)"
   ]
  },
  {
   "cell_type": "markdown",
   "metadata": {},
   "source": [
    "## precip, visib"
   ]
  },
  {
   "cell_type": "code",
   "execution_count": null,
   "metadata": {},
   "outputs": [],
   "source": [
    "df['precip'] = BOS['precip']\n",
    "df['precip_indic'] = BOS['precip_indic'].astype(int)\n",
    "df['visib'] = BOS['visib']"
   ]
  },
  {
   "cell_type": "code",
   "execution_count": null,
   "metadata": {},
   "outputs": [],
   "source": [
    "lr = LinearRegression().fit(df.values, y)\n",
    "lr.score(df.values, y)"
   ]
  },
  {
   "cell_type": "code",
   "execution_count": null,
   "metadata": {},
   "outputs": [],
   "source": [
    "np.sqrt(mean_squared_error(y, lr.predict(df.values)))"
   ]
  },
  {
   "cell_type": "code",
   "execution_count": null,
   "metadata": {},
   "outputs": [],
   "source": [
    "len(df.columns)"
   ]
  },
  {
   "cell_type": "code",
   "execution_count": null,
   "metadata": {},
   "outputs": [],
   "source": [
    "lr_best = lr"
   ]
  },
  {
   "cell_type": "markdown",
   "metadata": {},
   "source": [
    "# 4 - Régression polynomiale"
   ]
  },
  {
   "cell_type": "code",
   "execution_count": null,
   "metadata": {},
   "outputs": [],
   "source": [
    "def LinearRegressionCV(X_train, y_train, n_splits=5):\n",
    "    h = defaultdict(list)\n",
    "    \n",
    "    kf = KFold(n_splits, shuffle=True)\n",
    "\n",
    "    for train_index, val_index in kf.split(X_train):\n",
    "        # Préparation des plis\n",
    "        x_cv_train, x_cv_val = X_train[train_index], X_train[val_index]\n",
    "        y_cv_train, y_cv_val = y_train[train_index], y_train[val_index]\n",
    "\n",
    "        # Régression logistique\n",
    "        lr = LinearRegression(fit_intercept=False).fit(x_cv_train, y_cv_train)\n",
    "\n",
    "        # Performances par plis - RMSE\n",
    "        y_pred_train = lr.predict(x_cv_train)\n",
    "        y_pred_val = lr.predict(x_cv_val)\n",
    "        h['train'].append(mean_squared_error(y_cv_train, y_pred_train, squared=False))\n",
    "        h['val'].append(mean_squared_error(y_cv_val, y_pred_val, squared=False))\n",
    "    \n",
    "    return np.mean(h['train']), np.mean(h['val'])\n",
    "\n",
    "\n",
    "history = defaultdict(list)\n",
    "for n in range(1, 5):\n",
    "    \n",
    "    # variables polynomiales\n",
    "    X_poly = polynomial(df.values, degree=n)\n",
    "    t, v = LinearRegressionCV(X_poly, y)\n",
    "    history['train'].append(t)\n",
    "    history['val'].append(v)"
   ]
  },
  {
   "cell_type": "code",
   "execution_count": null,
   "metadata": {},
   "outputs": [],
   "source": [
    "f, ax = plt.subplots(1,1)\n",
    "ax.plot(range(1, 5), history['train'], label=\"train\")\n",
    "ax.plot(range(1, 5), history['val'], label=\"val\")\n",
    "ax.set_xlabel('n', fontsize=14)\n",
    "ax.set_ylabel('RMSE', fontsize=14)\n",
    "ax.legend()"
   ]
  },
  {
   "cell_type": "markdown",
   "metadata": {},
   "source": [
    "Si on se fie à la courbe ci-dessus, une régression polynomiale n'est pas utile au problème"
   ]
  },
  {
   "cell_type": "markdown",
   "metadata": {},
   "source": [
    "# 5 - Régression KNN"
   ]
  },
  {
   "cell_type": "code",
   "execution_count": null,
   "metadata": {},
   "outputs": [],
   "source": [
    "def kNNCV(X_train, y_train, n_neighbors, n_splits=5):\n",
    "    h = defaultdict(list)\n",
    "    \n",
    "    kf = KFold(n_splits, shuffle=True)\n",
    "    \n",
    "    for train_index, val_index in kf.split(X_train):\n",
    "        # Préparation des plis\n",
    "        x_cv_train, x_cv_val = X_train[train_index], X_train[val_index]\n",
    "        y_cv_train, y_cv_val = y_train[train_index], y_train[val_index]\n",
    "\n",
    "        # Régression logistique\n",
    "        neigh = KNeighborsRegressor(n_neighbors=n_neighbors).fit(x_cv_train, y_cv_train)\n",
    "\n",
    "        # Record performances par plis\n",
    "        # MSE\n",
    "        y_pred_train = neigh.predict(x_cv_train)\n",
    "        y_pred_val = neigh.predict(x_cv_val)\n",
    "        h['train'].append(np.sqrt(mean_squared_error(y_cv_train, y_pred_train)))\n",
    "        h['val'].append(np.sqrt(mean_squared_error(y_cv_val, y_pred_val)))\n",
    "        \n",
    "    return np.mean(h['train']), np.mean(h['val'])\n",
    "\n",
    "\n",
    "history = defaultdict(list)\n",
    "for n_neighbors in range(1, 10):\n",
    "    \n",
    "    tr, val = kNNCV(df.values, y, n_neighbors)\n",
    "    history['train'].append(tr)\n",
    "    history['val'].append(val)"
   ]
  },
  {
   "cell_type": "code",
   "execution_count": null,
   "metadata": {},
   "outputs": [],
   "source": [
    "f, ax = plt.subplots(1,1)\n",
    "ax.plot(range(1, 10), history['train'], label=\"train\")\n",
    "ax.plot(range(1, 10), history['val'], label=\"val\")\n",
    "ax.set_xlabel('k', fontsize=14)\n",
    "ax.set_ylabel('RMSE', fontsize=14)\n",
    "ax.legend()"
   ]
  },
  {
   "cell_type": "markdown",
   "metadata": {},
   "source": [
    "Comme on peut le constater, les performances de KNN sont très en deça des performances de la régression linéaire"
   ]
  },
  {
   "cell_type": "markdown",
   "metadata": {},
   "source": [
    "# 6 - Prédictions sur le jeu de test"
   ]
  },
  {
   "cell_type": "code",
   "execution_count": null,
   "metadata": {},
   "outputs": [],
   "source": [
    "def prepare_data(df):\n",
    "    \"\"\"\n",
    "    Préparation et sélection manuelle des variables explicatives\n",
    "    \"\"\"\n",
    "    \n",
    "    dfp = pd.DataFrame()\n",
    "    \n",
    "    dfp['dep_delay'] = df['dep_delay']\n",
    "    \n",
    "    dfp['distance'] = df['distance']\n",
    "    dfp['day'] = df['day']\n",
    "    dfp['time'] = 60 * df['hour'] + df['minute']\n",
    "    \n",
    "    dfp['week_day'] = df['week_day'].apply(lambda x: time.strptime(x, \"%A\").tm_wday)\n",
    "    dfp['wknd'] = df['wknd'].astype(int)\n",
    "    dfp['evening_rush_hour'] = df['evening_rush_hour'].astype(int)\n",
    "        \n",
    "    dfp['carrier'] = df['carrier']\n",
    "    dfp['carrier_AA'] = 0 # AA absent du jeu de test. Attention à l'ordre des colonnes\n",
    "    dfp = pd.get_dummies(dfp, prefix=\"carrier\", drop_first=True)\n",
    "    \n",
    "    \n",
    "    dfp['air_time'] = df['air_time']\n",
    "    dfp['seats'] = df['seats']\n",
    "    \n",
    "    dfp['temp'] = df['temp']\n",
    "    dfp['dewp'] = df['dewp']\n",
    "    dfp['humid'] = df['humid']\n",
    "    dfp['pressure'] = df['pressure']\n",
    "    \n",
    "    \n",
    "    dfp['wind_sin'] = df['wind_sin']\n",
    "    dfp['wind_cos'] = df['wind_cos']\n",
    "    \n",
    "    dfp['precip'] = df['precip']\n",
    "    dfp['precip_indic'] = df['precip_indic'].astype(int)\n",
    "    dfp['visib'] = df['visib']\n",
    "            \n",
    "    assert dfp.columns.all(df.columns)\n",
    "    \n",
    "    return dfp"
   ]
  },
  {
   "cell_type": "code",
   "execution_count": null,
   "metadata": {},
   "outputs": [],
   "source": [
    "BOS_test = pd.read_csv('BOS_test.csv', index_col=[0])"
   ]
  },
  {
   "cell_type": "code",
   "execution_count": null,
   "metadata": {},
   "outputs": [],
   "source": [
    "BOS_test.head()"
   ]
  },
  {
   "cell_type": "code",
   "execution_count": null,
   "metadata": {},
   "outputs": [],
   "source": [
    "BOS_test.columns"
   ]
  },
  {
   "cell_type": "code",
   "execution_count": null,
   "metadata": {},
   "outputs": [],
   "source": [
    "df_test = prepare_data(BOS_test)"
   ]
  },
  {
   "cell_type": "code",
   "execution_count": null,
   "metadata": {},
   "outputs": [],
   "source": [
    "df_test.head()"
   ]
  },
  {
   "cell_type": "code",
   "execution_count": null,
   "metadata": {},
   "outputs": [],
   "source": [
    "X_test = df_test.values\n",
    "y_pred_test = lr_best.predict(X_test)\n",
    "BOS_test['y_pred_test'] = y_pred_test"
   ]
  },
  {
   "cell_type": "code",
   "execution_count": null,
   "metadata": {},
   "outputs": [],
   "source": [
    "BOS_test.to_csv('output.csv', columns=['y_pred_test'])"
   ]
  },
  {
   "cell_type": "markdown",
   "metadata": {},
   "source": [
    "# 7 - Résultats finaux"
   ]
  },
  {
   "cell_type": "code",
   "execution_count": null,
   "metadata": {},
   "outputs": [],
   "source": [
    "BOS_test_arr_delay = pd.read_csv(\"BOS_test_arr_delay.csv\")"
   ]
  },
  {
   "cell_type": "markdown",
   "metadata": {},
   "source": [
    "### Meilleur modèle"
   ]
  },
  {
   "cell_type": "code",
   "execution_count": null,
   "metadata": {},
   "outputs": [],
   "source": [
    "y_test = BOS_test_arr_delay['arr_delay'].values"
   ]
  },
  {
   "cell_type": "code",
   "execution_count": null,
   "metadata": {},
   "outputs": [],
   "source": [
    "mean_squared_error(y_pred_test, y_test, squared=False)"
   ]
  },
  {
   "cell_type": "markdown",
   "metadata": {},
   "source": [
    "### mean baseline"
   ]
  },
  {
   "cell_type": "code",
   "execution_count": null,
   "metadata": {},
   "outputs": [],
   "source": [
    "y_mean_baseline = BOS['arr_delay'].mean()\n",
    "y_mean_baseline = np.full(shape=(len(y_test),1), fill_value=y_mean_baseline)"
   ]
  },
  {
   "cell_type": "code",
   "execution_count": null,
   "metadata": {},
   "outputs": [],
   "source": [
    "mean_squared_error(y_mean_baseline, y_test, squared=False)"
   ]
  },
  {
   "cell_type": "markdown",
   "metadata": {},
   "source": [
    "### dep_delay_baseline"
   ]
  },
  {
   "cell_type": "code",
   "execution_count": null,
   "metadata": {},
   "outputs": [],
   "source": [
    "y_base = lr_baseline.predict(df_test[['dep_delay']].values.reshape(-1,1))"
   ]
  },
  {
   "cell_type": "code",
   "execution_count": null,
   "metadata": {},
   "outputs": [],
   "source": [
    "mean_squared_error(y_base, y_test, squared=False)"
   ]
  },
  {
   "cell_type": "code",
   "execution_count": null,
   "metadata": {},
   "outputs": [],
   "source": [
    "16.57-12.25"
   ]
  },
  {
   "cell_type": "markdown",
   "metadata": {},
   "source": [
    "Trafic à l'Aéroport Montréal-Trudeau en 2018, nombre de vols = 264 195"
   ]
  },
  {
   "cell_type": "code",
   "execution_count": null,
   "metadata": {},
   "outputs": [],
   "source": [
    "264195*4.32/60/24/365.25"
   ]
  }
 ],
 "metadata": {
  "kernelspec": {
   "display_name": "Python 3",
   "language": "python",
   "name": "python3"
  },
  "language_info": {
   "codemirror_mode": {
    "name": "ipython",
    "version": 3
   },
   "file_extension": ".py",
   "mimetype": "text/x-python",
   "name": "python",
   "nbconvert_exporter": "python",
   "pygments_lexer": "ipython3",
   "version": "3.6.9"
  }
 },
 "nbformat": 4,
 "nbformat_minor": 4
}
