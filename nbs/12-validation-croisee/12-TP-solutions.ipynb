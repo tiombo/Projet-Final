{
 "cells": [
  {
   "cell_type": "markdown",
   "metadata": {},
   "source": [
    "420-A52-SF - Algorithmes d'apprentissage supervisé - Hiver 2020 - Spécialisation technique en Intelligence Artificielle<br/>\n",
    "MIT License - Copyright (c) 2020 Mikaël Swawola\n",
    "<br/>\n",
    "![Travaux Pratiques - Validation croisée](static/12-tp-banner.png)\n",
    "<br/>\n",
    "**Objectif:** cette séance de travaux pratiques a pour objectif la mise en oeuvre de la validation croisée à k plis à l'aide de la librairie **scikit-learn**. Les modèles et algorithmes utilisés seront la régression logistique et la classification KNN Le jeu de données sera de nouveau **Heart**"
   ]
  },
  {
   "cell_type": "code",
   "execution_count": null,
   "metadata": {},
   "outputs": [],
   "source": [
    "%reload_ext autoreload\n",
    "%autoreload 2\n",
    "%matplotlib inline"
   ]
  },
  {
   "cell_type": "markdown",
   "metadata": {},
   "source": [
    "## 0 - Chargement des bibliothèques"
   ]
  },
  {
   "cell_type": "code",
   "execution_count": null,
   "metadata": {},
   "outputs": [],
   "source": [
    "# Manipulation de données\n",
    "import numpy as np\n",
    "import pandas as pd\n",
    "\n",
    "# Visualisation de données\n",
    "import matplotlib.pyplot as plt\n",
    "import seaborn as sns\n",
    "\n",
    "# Helpers\n",
    "from helpers import polynomial\n",
    "\n",
    "# Outils divers\n",
    "from tqdm import tqdm\n",
    "from collections import defaultdict\n",
    "\n",
    "# Machine Learning\n",
    "# Compléter au fur et à mesure du TP l'importation des modules scikit-learn requis\n",
    "\n",
    "from sklearn.linear_model import LogisticRegression\n",
    "from sklearn.neighbors import KNeighborsClassifier\n",
    "from sklearn.preprocessing import StandardScaler\n",
    "from sklearn.model_selection import KFold\n",
    "from sklearn.model_selection import train_test_split"
   ]
  },
  {
   "cell_type": "code",
   "execution_count": null,
   "metadata": {},
   "outputs": [],
   "source": [
    "# Configuration de la visualisation\n",
    "sns.set(style=\"darkgrid\", rc={'figure.figsize':(12,6)})\n",
    "sns.set_context(\"notebook\", font_scale=1.5, rc={\"lines.linewidth\": 2.5})"
   ]
  },
  {
   "cell_type": "markdown",
   "metadata": {},
   "source": [
    "## 1 - Lecture du jeu de données"
   ]
  },
  {
   "cell_type": "markdown",
   "metadata": {},
   "source": [
    "<strong style=\"color: #4a86e8\">Exercice 1-1: lire le fichier `Heart.csv`<strong/>"
   ]
  },
  {
   "cell_type": "code",
   "execution_count": null,
   "metadata": {},
   "outputs": [],
   "source": [
    "# Compléter le code ci-dessous ~ 1-2 lignes\n",
    "\n",
    "cols = ['Age','Sex','ChestPain','RestBP','Chol','Fbs','RestECG','MaxHR','ExAng','Oldpeak','Slope','Ca','Thal','AHD']\n",
    "HRT = pd.read_csv('../../data/Heart.csv', usecols=cols)"
   ]
  },
  {
   "cell_type": "code",
   "execution_count": null,
   "metadata": {},
   "outputs": [],
   "source": [
    "# On supprime tout de suite les données manquantes. Ceci sera vu plus en détail plus tard dans le cours\n",
    "HRT = HRT.dropna()"
   ]
  },
  {
   "cell_type": "markdown",
   "metadata": {},
   "source": [
    "<strong style=\"color: #4a86e8\">Exercice 1-2: afficher les dix premières lignes de la trame de données HRT</strong>"
   ]
  },
  {
   "cell_type": "code",
   "execution_count": null,
   "metadata": {},
   "outputs": [],
   "source": [
    "# Compléter le code ci-dessous ~ 1 ligne\n",
    "\n",
    "HRT.head()"
   ]
  },
  {
   "cell_type": "markdown",
   "metadata": {},
   "source": [
    "## 2 - Préparation de données"
   ]
  },
  {
   "cell_type": "markdown",
   "metadata": {},
   "source": [
    "Nous allons considérer l'ensemble des variables explicatives du jeu de données **Heart**"
   ]
  },
  {
   "cell_type": "markdown",
   "metadata": {},
   "source": [
    "<strong style=\"color: #4a86e8\">Exercice 2-1: Encoder les variables explicatives catégorielles. Utiliser le numpy array `X` pour stocker les variables explicatives et le vecteur `y` pour la variable réponse. Indice: utilisez pandas ;-)</strong>"
   ]
  },
  {
   "cell_type": "code",
   "execution_count": null,
   "metadata": {},
   "outputs": [],
   "source": [
    "# Compléter le code ci-dessous ~ 2-3 lignes\n",
    "\n",
    "HRT_onehot = pd.get_dummies(HRT, columns=['ChestPain','Thal'], prefix = ['cp','thal'], drop_first=True)\n",
    "X = HRT_onehot.drop(['AHD'], axis=1).values\n",
    "y = (HRT['AHD'] == \"Yes\").astype(int).values"
   ]
  },
  {
   "cell_type": "markdown",
   "metadata": {},
   "source": [
    "<strong style=\"color: #4a86e8\">Exercice 2-1: Quel est le nombre de variables explicatives contenues dans `X` ?</strong>"
   ]
  },
  {
   "cell_type": "code",
   "execution_count": null,
   "metadata": {},
   "outputs": [],
   "source": [
    "# Compléter le code ci-dessous ~ 1 ligne\n",
    "\n",
    "X.shape[1]"
   ]
  },
  {
   "cell_type": "markdown",
   "metadata": {},
   "source": [
    "<strong style=\"color: #4a86e8\">Exercice 2-2: Quel est le nombre d'observations ?</strong>"
   ]
  },
  {
   "cell_type": "code",
   "execution_count": null,
   "metadata": {},
   "outputs": [],
   "source": [
    "# Compléter le code ci-dessous ~ 1 ligne\n",
    "\n",
    "X.shape[0]"
   ]
  },
  {
   "cell_type": "markdown",
   "metadata": {},
   "source": [
    "## 3 - Validation croisée à 5 plis - Régression logistique"
   ]
  },
  {
   "cell_type": "markdown",
   "metadata": {},
   "source": [
    "### 3 - 1 - Mélange des données et séparation en jeu d’entraînement et de test"
   ]
  },
  {
   "cell_type": "markdown",
   "metadata": {},
   "source": [
    "<strong style=\"color: #4a86e8\">Exercice 3-1: à l'aide de scikit-learn, sépararer les données en jeu d'entraînement et jeu de test. La taille du jeu de test doit représenter 30% de la taille du jeu de données et l'état du générateur aléatoire sera fixé à 2020 afin de permettre la reproductibilité</strong>"
   ]
  },
  {
   "cell_type": "markdown",
   "metadata": {},
   "source": [
    "![3 - 1 - Mélange des données et séparation en jeu d’entraînement et de test](static/fig1.png)"
   ]
  },
  {
   "cell_type": "code",
   "execution_count": null,
   "metadata": {},
   "outputs": [],
   "source": [
    "# Compléter le code ci-dessous ~ 1 ligne\n",
    "\n",
    "X_train, X_test, y_train, y_test = train_test_split(X, y, test_size=0.30, random_state=2020)"
   ]
  },
  {
   "cell_type": "markdown",
   "metadata": {},
   "source": [
    "Vérification des dimensions de `X_train` et `X_test`"
   ]
  },
  {
   "cell_type": "code",
   "execution_count": null,
   "metadata": {},
   "outputs": [],
   "source": [
    "print(X_train.shape)\n",
    "print(X_test.shape)"
   ]
  },
  {
   "cell_type": "markdown",
   "metadata": {},
   "source": [
    "### 3 - 2 - Entraînement de plusieurs modèles de flexibilités différentes sur 5 plis de validation"
   ]
  },
  {
   "cell_type": "markdown",
   "metadata": {},
   "source": [
    "<strong style=\"color: #4a86e8\">Exercice 3-2: réaliser une validation croisée à 5-plis sur une régression logistique polynomiale (sans variables d'interaction) en faisant varier l'ordre `n` du polynôme de 1 à 5. Vous pouvez utiliser la fonction `polynomial` disponible dans `helpers.py`. Enregistrez dans le dictionnaire `history` les scores (accuracy) sur les jeux d'entraînement et de validation pour chaque valeurs de `n`</strong><br/><br/>\n",
    "\n",
    "<strong style=\"color: green\">Afin de faciliter l'écriture du code, cet exercice sera réalisé en deux étapes\n",
    "<ul>\n",
    "    <li>Etape 1: effectuer une validation croisée à 5 plis sur une régression logistique d'ordre 1 seulement</li>\n",
    "    <li>Etape 2: inclure le code précédent dans une boucle for en faisant varier l'ordre de 1 à 5</li>\n",
    "</ul>\n",
    "<strong>"
   ]
  },
  {
   "cell_type": "markdown",
   "metadata": {},
   "source": [
    "Instanciation de `scaler` pour la standardisation des données"
   ]
  },
  {
   "cell_type": "code",
   "execution_count": null,
   "metadata": {},
   "outputs": [],
   "source": [
    "scaler = StandardScaler()"
   ]
  },
  {
   "cell_type": "markdown",
   "metadata": {},
   "source": [
    "### Etape 1 : effectuer une validation croisée à 5 plis sur une régression logistique d'ordre 1 seulement\n",
    "\n",
    "![3 - 2 - Entraînement de plusieurs modèles de flexibilités différentes sur k plis de validation](static/fig2.png)\n",
    "\n",
    "[sklearn.model_selection.KFold(n_splits=5, shuffle=False, random_state=None)](https://scikit-learn.org/stable/modules/generated/sklearn.model_selection.KFold.html)"
   ]
  },
  {
   "cell_type": "code",
   "execution_count": null,
   "metadata": {},
   "outputs": [],
   "source": [
    "# Compléter le code ci-dessous ~ 10-20 lignes ...\n",
    "\n",
    "# Pseudo code:\n",
    "# ------------\n",
    "#\n",
    "# Instancier KFold (sklearn)\n",
    "#\n",
    "# Ajouter x0 sur X\n",
    "#\n",
    "# Standardiser X\n",
    "#\n",
    "# Itérer sur les k plis:\n",
    "#     Effectuer la classification sur le plis courant (jeu d'entraînement)\n",
    "#     Évaluer les performances sur le jeu de validation\n",
    "\n",
    "history = defaultdict(list)\n",
    "\n",
    "kf = KFold(n_splits=5)\n",
    "\n",
    "# Variables polynomiales\n",
    "X_temp = polynomial(X_train, degree=1)\n",
    "\n",
    "# Standardisation\n",
    "scaler.fit(X_temp)\n",
    "X_train_scaled = scaler.transform(X_temp)\n",
    "\n",
    "for train_index, val_index in kf.split(X_train_scaled):\n",
    "    # Préparation des plis\n",
    "    x_cv_train, x_cv_val = X_train_scaled[train_index,:], X_train_scaled[val_index,:]\n",
    "    y_cv_train, y_cv_val = y_train[train_index], y_train[val_index]\n",
    "\n",
    "    # Régression logistique\n",
    "    clf = LogisticRegression(penalty=\"none\", fit_intercept=False).fit(x_cv_train, y_cv_train)\n",
    "    \n",
    "    # Record performances par plis\n",
    "    history['train'].append(clf.score(x_cv_train, y_cv_train))\n",
    "    history['val'].append(clf.score(x_cv_val, y_cv_val))\n",
    "    \n",
    "print(f\"Accuracy de validation = {np.mean(history['val'])}\")\n",
    "print(f\"Accuracy d'entraînement = {np.mean(history['train'])}\")"
   ]
  },
  {
   "cell_type": "markdown",
   "metadata": {},
   "source": [
    "### Etape 2 - inclure le code précédent dans une boucle for en faisant varier l'ordre de 1 à 5\n",
    "\n",
    "![3 - 2 - Entraînement de plusieurs modèles de flexibilités différentes sur k plis de validation](static/fig3.png)"
   ]
  },
  {
   "cell_type": "code",
   "execution_count": null,
   "metadata": {},
   "outputs": [],
   "source": [
    "# Compléter la fonction ci-dessous ~ quelques lignes ...\n",
    "\n",
    "def LogisticRegressionCV(X_train_scaled, y_train, n_splits=5):\n",
    "    history = defaultdict(list)\n",
    "    \n",
    "    kf = KFold(n_splits)\n",
    "\n",
    "    for train_index, val_index in kf.split(X_train_scaled):\n",
    "        # Préparation des plis\n",
    "        x_cv_train, x_cv_val = X_train_scaled[train_index,:], X_train_scaled[val_index,:]\n",
    "        y_cv_train, y_cv_val = y_train[train_index], y_train[val_index]\n",
    "\n",
    "        # Régression logistique\n",
    "        clf = LogisticRegression(penalty=\"none\", solver=\"sag\", max_iter=1000000, fit_intercept=False).fit(x_cv_train, y_cv_train)\n",
    "\n",
    "        # Record performances par plis\n",
    "        history['train'].append(clf.score(x_cv_train, y_cv_train))\n",
    "        history['val'].append(clf.score(x_cv_val, y_cv_val))\n",
    "        \n",
    "    return np.mean(history['train']), np.mean(history['val'])\n",
    "\n",
    "\n",
    "history = defaultdict(list)\n",
    "for n in range(1, 10):\n",
    "    \n",
    "    # variables polynomiales\n",
    "    X_temp = polynomial(X_train, degree=n)\n",
    "\n",
    "    # Standardisation\n",
    "    scaler.fit(X_temp)\n",
    "    X_train_scaled = scaler.transform(X_temp)\n",
    "    \n",
    "    tr, val = LogisticRegressionCV(X_train_scaled, y_train)\n",
    "    history['train'].append(tr)\n",
    "    history['val'].append(val)"
   ]
  },
  {
   "cell_type": "markdown",
   "metadata": {},
   "source": [
    "### 3 - 3 - Choix du meilleur modèle en fonction des performances sur les plis de validation"
   ]
  },
  {
   "cell_type": "markdown",
   "metadata": {},
   "source": [
    "![3 - 3 - Choix du meilleur modèle en fonction des performances sur les plis de validation](static/fig4.png)"
   ]
  },
  {
   "cell_type": "code",
   "execution_count": null,
   "metadata": {},
   "outputs": [],
   "source": [
    "f, ax = plt.subplots(1,1)\n",
    "ax.plot(range(1,10), history['train'], label=\"train\")\n",
    "ax.plot(range(1,10), history['val'], label=\"test\")\n",
    "ax.set_xlabel('n', fontsize=14)\n",
    "ax.set_ylabel('accuracy', fontsize=14)\n",
    "ax.legend()"
   ]
  },
  {
   "cell_type": "markdown",
   "metadata": {},
   "source": [
    "### 3 - 4 - Entrainement du meilleur modèle"
   ]
  },
  {
   "cell_type": "markdown",
   "metadata": {},
   "source": [
    "<strong style=\"color: #4a86e8\">Exercice 3-4 : utiliser les résultas précédents pour sélectionner le meilleur modèle, et réentrainer ce modèle sur l'ensemble des données d'entraînement</strong>"
   ]
  },
  {
   "cell_type": "markdown",
   "metadata": {},
   "source": [
    "![3 - 4 - Entrainement du meilleur modèle](static/fig5.png)"
   ]
  },
  {
   "cell_type": "code",
   "execution_count": null,
   "metadata": {},
   "outputs": [],
   "source": [
    "# Compléter le code ci-dessous ~ quelques lignes ...\n",
    "\n",
    "# Variables polynomiales\n",
    "X_train_temp = polynomial(X_train, degree=2)\n",
    "\n",
    "# Standardisation\n",
    "scaler.fit(X_train_temp)\n",
    "X_train_scaled = scaler.transform(X_train_temp)\n",
    "\n",
    "clf_best = LogisticRegression(penalty=\"none\", max_iter=100000, fit_intercept=False).fit(X_train_scaled, y_train)"
   ]
  },
  {
   "cell_type": "markdown",
   "metadata": {},
   "source": [
    "### 3 - 5 - Performances du meilleur modèle"
   ]
  },
  {
   "cell_type": "markdown",
   "metadata": {},
   "source": [
    "<strong style=\"color: #4a86e8\">Exercice 3-5 : Évaluer les performances du meilleur modèle sur le jeu de test</strong>\n",
    "![3 - 5 - Performances du modèle final](static/fig6.png)"
   ]
  },
  {
   "cell_type": "code",
   "execution_count": null,
   "metadata": {},
   "outputs": [],
   "source": [
    "# Compléter la fonction ci-dessous ~ quelques lignes ...\n",
    "\n",
    "# Variables polynomiales\n",
    "X_test_temp = polynomial(X_test, degree=2)\n",
    "\n",
    "# Standardisation\n",
    "scaler.fit(X_test_temp)\n",
    "X_test_scaled = scaler.transform(X_test_temp)"
   ]
  },
  {
   "cell_type": "code",
   "execution_count": null,
   "metadata": {},
   "outputs": [],
   "source": [
    "clf_best.score(X_test_scaled, y_test)"
   ]
  },
  {
   "cell_type": "markdown",
   "metadata": {},
   "source": [
    "## 4 - Validation croisée à 5 plis - Algorithme des k plus proches voisins"
   ]
  },
  {
   "cell_type": "markdown",
   "metadata": {},
   "source": [
    "### 4 - 1 - Mélange des données et séparation en jeu d’entraînement et de test"
   ]
  },
  {
   "cell_type": "markdown",
   "metadata": {},
   "source": [
    "Vous pouvez reprendre `X_train`, `X_test`, `y_train` et `y_test` obtenus au **3-1**"
   ]
  },
  {
   "cell_type": "markdown",
   "metadata": {},
   "source": [
    "### 4 - 2 - Entraînement de plusieurs modèles de flexibilités différentes sur 5 plis de validation"
   ]
  },
  {
   "cell_type": "markdown",
   "metadata": {},
   "source": [
    "<strong style=\"color: #4a86e8\">Exercice 4-2: réaliser une validation croisée à k-plis sur une classification KNN en faisant varier le nombre de voisins `k` de 1 à 20. Enregistrez les scores (accuracy) sur les jeux d'entraînement et de validation pour chaque valeur de `k` dans le dictionnaire `history`</strong><br/><br/>\n",
    "<strong style=\"color: green\">Comme pour l'exercice 3, afin de faciliter l'écriture du code, cette question sera faite en deux étapes\n",
    "<ul>\n",
    "    <li>Etape 1: effectuer une validation croisée à 5 plis sur une classification KNN avec k=10 voisins seulement</li>\n",
    "    <li>Etape 2: inclure le code précédent dans une boucle for en faisant varier le nombre de voisins de 1 à 20</li>\n",
    "</ul>\n",
    "<strong>"
   ]
  },
  {
   "cell_type": "markdown",
   "metadata": {},
   "source": [
    "### Etape 1 - effectuer une validation croisée à 5 plis sur une classification KNN avec k=10 voisins seulement"
   ]
  },
  {
   "cell_type": "code",
   "execution_count": null,
   "metadata": {},
   "outputs": [],
   "source": [
    "# Compléter le code ci-dessous ~ 10-15 lignes ...\n",
    "\n",
    "history = defaultdict(list)\n",
    "\n",
    "kf = KFold(n_splits=5)\n",
    "\n",
    "k = 10\n",
    "\n",
    "for train_index, val_index in kf.split(X_train):\n",
    "    \n",
    "    x_cv_train, x_cv_val = X_train_scaled[train_index,:], X_train_scaled[val_index,:]\n",
    "    y_cv_train, y_cv_val = y_train[train_index], y_train[val_index]\n",
    "    \n",
    "    # Classification KNN\n",
    "    neigh = KNeighborsClassifier(n_neighbors=k).fit(x_cv_train, y_cv_train)\n",
    "    \n",
    "    # Record performances par plis\n",
    "    history['train'].append(neigh.score(x_cv_train, y_cv_train))\n",
    "    history['val'].append(neigh.score(x_cv_val, y_cv_val))\n",
    "\n",
    "print(f\"Accuracy de validation = {np.mean(history['val'])}\")\n",
    "print(f\"Accuracy d'entraînement = {np.mean(history['train'])}\")"
   ]
  },
  {
   "cell_type": "markdown",
   "metadata": {},
   "source": [
    "### Etape 2 -  inclure le code précédent dans une boucle for en faisant varier le nombre de voisins de 1 à 20"
   ]
  },
  {
   "cell_type": "code",
   "execution_count": null,
   "metadata": {},
   "outputs": [],
   "source": [
    "# Compléter le code ci-dessous ~ quelques lignes ...\n",
    "\n",
    "def KNeighborsClassifierCV(k):\n",
    "    history = defaultdict(list)\n",
    "    \n",
    "    kf = KFold(n_splits=5)\n",
    "\n",
    "    for train_index, val_index in kf.split(X_train):\n",
    "        x_cv_train, x_cv_val = X_train[train_index,:], X_train[val_index,:]\n",
    "        y_cv_train, y_cv_val = y_train[train_index], y_train[val_index]\n",
    "\n",
    "        # Classification KNN\n",
    "        neigh = KNeighborsClassifier(n_neighbors=k).fit(x_cv_train, y_cv_train)\n",
    "    \n",
    "        # Record performances par plis\n",
    "        history['train'].append(neigh.score(x_cv_train, y_cv_train))\n",
    "        history['val'].append(neigh.score(x_cv_val, y_cv_val))\n",
    "        \n",
    "    return np.mean(history['train']), np.mean(history['val'])\n",
    "\n",
    "    \n",
    "history = defaultdict(list)\n",
    "for k in range(1, 20):\n",
    "    t, v = KNeighborsClassifierCV(k)\n",
    "    history['train'].append(t)\n",
    "    history['val'].append(v)"
   ]
  },
  {
   "cell_type": "markdown",
   "metadata": {},
   "source": [
    "### 4 - 3 - Choix du meilleur modèle en fonction des performances sur les plis de validation"
   ]
  },
  {
   "cell_type": "code",
   "execution_count": null,
   "metadata": {},
   "outputs": [],
   "source": [
    "f, ax = plt.subplots(1,1)\n",
    "ax.plot(range(1, 20), history['train'], label=\"train\")\n",
    "ax.plot(range(1, 20), history['val'], label=\"test\")\n",
    "ax.set_xlabel('k', fontsize=14)\n",
    "ax.set_ylabel('accuracy', fontsize=14)\n",
    "ax.legend()"
   ]
  },
  {
   "cell_type": "markdown",
   "metadata": {},
   "source": [
    "### 4 - 4 - Entrainement du meilleur modèle"
   ]
  },
  {
   "cell_type": "markdown",
   "metadata": {},
   "source": [
    "<strong style=\"color: #4a86e8\">Exercice 4-4: utiliser les résultas précédents pour sélectionner le meilleur modèle, et réentrainer ce modèle sur l'ensemble des données d'entraînement</strong>"
   ]
  },
  {
   "cell_type": "code",
   "execution_count": null,
   "metadata": {},
   "outputs": [],
   "source": [
    "# Compléter la fonction ci-dessous ~ quelques lignes ...\n",
    "\n",
    "neigh_best = KNeighborsClassifier(n_neighbors=15).fit(X_train, y_train)"
   ]
  },
  {
   "cell_type": "markdown",
   "metadata": {},
   "source": [
    "### 4 - 5 - Performances du meilleur modèle"
   ]
  },
  {
   "cell_type": "markdown",
   "metadata": {},
   "source": [
    "<strong style=\"color: #4a86e8\">Exercice 4-5: Évaluer les performances du meilleur modèle sur le jeu de test</strong>"
   ]
  },
  {
   "cell_type": "code",
   "execution_count": null,
   "metadata": {},
   "outputs": [],
   "source": [
    "# Compléter la fonction ci-dessous ~ quelques lignes ...\n",
    "\n",
    "neigh_best.score(X_test, y_test)"
   ]
  },
  {
   "cell_type": "markdown",
   "metadata": {},
   "source": [
    "<strong style=\"color: #4a86e8\">Exercice 4-6: Expliquer ces performances</strong>"
   ]
  },
  {
   "cell_type": "markdown",
   "metadata": {},
   "source": [
    "### 5 - Choix du modèle final"
   ]
  },
  {
   "cell_type": "markdown",
   "metadata": {},
   "source": [
    "<strong style=\"color: #4a86e8\">Exercice 5: Quel modèle choisissez-vous ? Quels sont les valeurs des hyperparamètres ?</strong>"
   ]
  },
  {
   "cell_type": "markdown",
   "metadata": {},
   "source": [
    "### Fin du TP"
   ]
  }
 ],
 "metadata": {
  "kernelspec": {
   "display_name": "Python 3",
   "language": "python",
   "name": "python3"
  },
  "language_info": {
   "codemirror_mode": {
    "name": "ipython",
    "version": 3
   },
   "file_extension": ".py",
   "mimetype": "text/x-python",
   "name": "python",
   "nbconvert_exporter": "python",
   "pygments_lexer": "ipython3",
   "version": "3.6.9"
  }
 },
 "nbformat": 4,
 "nbformat_minor": 4
}
